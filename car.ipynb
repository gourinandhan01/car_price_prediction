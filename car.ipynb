{
 "cells": [
  {
   "cell_type": "code",
   "execution_count": 46,
   "id": "ac6d660a-13ba-4af5-867d-7c0b778b511a",
   "metadata": {},
   "outputs": [
    {
     "name": "stdout",
     "output_type": "stream",
     "text": [
      "Dataset Shape: (205, 26)\n",
      "\n",
      "Dataset Info:\n",
      "<class 'pandas.core.frame.DataFrame'>\n",
      "RangeIndex: 205 entries, 0 to 204\n",
      "Data columns (total 26 columns):\n",
      " #   Column            Non-Null Count  Dtype  \n",
      "---  ------            --------------  -----  \n",
      " 0   car_ID            205 non-null    int64  \n",
      " 1   symboling         205 non-null    int64  \n",
      " 2   CarName           205 non-null    object \n",
      " 3   fueltype          205 non-null    object \n",
      " 4   aspiration        205 non-null    object \n",
      " 5   doornumber        205 non-null    object \n",
      " 6   carbody           205 non-null    object \n",
      " 7   drivewheel        205 non-null    object \n",
      " 8   enginelocation    205 non-null    object \n",
      " 9   wheelbase         205 non-null    float64\n",
      " 10  carlength         205 non-null    float64\n",
      " 11  carwidth          205 non-null    float64\n",
      " 12  carheight         205 non-null    float64\n",
      " 13  curbweight        205 non-null    int64  \n",
      " 14  enginetype        205 non-null    object \n",
      " 15  cylindernumber    205 non-null    object \n",
      " 16  enginesize        205 non-null    int64  \n",
      " 17  fuelsystem        205 non-null    object \n",
      " 18  boreratio         205 non-null    float64\n",
      " 19  stroke            205 non-null    float64\n",
      " 20  compressionratio  205 non-null    float64\n",
      " 21  horsepower        205 non-null    int64  \n",
      " 22  peakrpm           205 non-null    int64  \n",
      " 23  citympg           205 non-null    int64  \n",
      " 24  highwaympg        205 non-null    int64  \n",
      " 25  price             205 non-null    float64\n",
      "dtypes: float64(8), int64(8), object(10)\n",
      "memory usage: 41.8+ KB\n",
      "None\n",
      "\n",
      "Missing Values:\n",
      "car_ID              0\n",
      "symboling           0\n",
      "CarName             0\n",
      "fueltype            0\n",
      "aspiration          0\n",
      "doornumber          0\n",
      "carbody             0\n",
      "drivewheel          0\n",
      "enginelocation      0\n",
      "wheelbase           0\n",
      "carlength           0\n",
      "carwidth            0\n",
      "carheight           0\n",
      "curbweight          0\n",
      "enginetype          0\n",
      "cylindernumber      0\n",
      "enginesize          0\n",
      "fuelsystem          0\n",
      "boreratio           0\n",
      "stroke              0\n",
      "compressionratio    0\n",
      "horsepower          0\n",
      "peakrpm             0\n",
      "citympg             0\n",
      "highwaympg          0\n",
      "price               0\n",
      "dtype: int64\n",
      "\n",
      "Categorical Columns: ['CarName', 'fueltype', 'aspiration', 'doornumber', 'carbody', 'drivewheel', 'enginelocation', 'enginetype', 'cylindernumber', 'fuelsystem']\n"
     ]
    }
   ],
   "source": [
    "import pandas as pd\n",
    "import numpy as np\n",
    "import matplotlib.pyplot as plt\n",
    "import seaborn as sns\n",
    "\n",
    "# Step 1: Loading and Preprocessing\n",
    "\n",
    "data = pd.read_csv(\"C:/Users/gouri/OneDrive/Desktop/CarPrice_Assignment.csv\")\n",
    "print(\"Dataset Shape:\", data.shape)\n",
    "print(\"\\nDataset Info:\")\n",
    "print(data.info())\n",
    "\n",
    "print(\"\\nMissing Values:\")\n",
    "print(data.isnull().sum())\n",
    "\n",
    "data.drop(['car_ID'], axis=1, inplace=True)\n",
    "\n",
    "categorical_cols = data.select_dtypes(include=['object']).columns\n",
    "print(\"\\nCategorical Columns:\", categorical_cols.tolist())\n",
    "\n",
    "data = pd.get_dummies(data, columns=categorical_cols, drop_first=True)\n"
   ]
  },
  {
   "cell_type": "code",
   "execution_count": 48,
   "id": "53b96257-718b-45a6-a156-9fac428aa0f0",
   "metadata": {},
   "outputs": [],
   "source": [
    "from sklearn.model_selection import train_test_split, GridSearchCV\n",
    "\n",
    "# Step 2: Splitting the data into train and test sets\n",
    "X = data.drop('price', axis=1)\n",
    "y = data['price']\n",
    "X_train, X_test, y_train, y_test = train_test_split(X, y, test_size=0.2, random_state=42)"
   ]
  },
  {
   "cell_type": "markdown",
   "id": "0f5d0ea8-014d-4460-b18a-1cc82fb672be",
   "metadata": {},
   "source": [
    "# **Task 1: Loading and Preprocessing**\n",
    "The dataset, containing 205 rows and 26 columns, was successfully loaded, with no missing values identified. The irrelevant column 'car_ID' was removed, and categorical variables, including 'CarName', 'fueltype', 'aspiration', 'doornumber', and others, were transformed into numerical format using one-hot encoding. The data was then prepared for modeling by separating the independent variables (X) from the target variable (y) and split into training (80%) and testing (20%) sets, ensuring an appropriate setup for model evaluation."
   ]
  },
  {
   "cell_type": "code",
   "execution_count": 50,
   "id": "a691effc-a2f7-4d9f-9e36-95d7ccf8e2de",
   "metadata": {},
   "outputs": [],
   "source": [
    "from sklearn.linear_model import LinearRegression\n",
    "from sklearn.tree import DecisionTreeRegressor\n",
    "from sklearn.ensemble import RandomForestRegressor, GradientBoostingRegressor\n",
    "from sklearn.svm import SVR\n",
    "\n",
    "# Step 3: Model Implementation\n",
    "\n",
    "models = {\n",
    "    'Linear Regression': LinearRegression(),\n",
    "    'Decision Tree': DecisionTreeRegressor(random_state=42),\n",
    "    'Random Forest': RandomForestRegressor(random_state=42),\n",
    "    'Gradient Boosting': GradientBoostingRegressor(random_state=42),\n",
    "    'Support Vector Regressor': SVR()\n",
    "}"
   ]
  },
  {
   "cell_type": "code",
   "execution_count": 32,
   "id": "b7819650-6f9d-4a97-bdff-a8ae9e74a6d8",
   "metadata": {},
   "outputs": [
    {
     "name": "stdout",
     "output_type": "stream",
     "text": [
      "\n",
      "Model Evaluation Results:\n",
      "                      Model  R-squared           MSE          MAE\n",
      "0         Linear Regression   0.473715  4.154703e+07  4177.295631\n",
      "1             Decision Tree   0.855898  1.137602e+07  2200.142268\n",
      "2             Random Forest   0.953457  3.674318e+06  1365.352512\n",
      "3         Gradient Boosting   0.930597  5.478929e+06  1700.986585\n",
      "4  Support Vector Regressor  -0.101989  8.699541e+07  5707.166801\n",
      "\n",
      "Best Performing Model: Random Forest\n"
     ]
    }
   ],
   "source": [
    "from sklearn.metrics import r2_score, mean_squared_error, mean_absolute_error\n",
    "\n",
    "results = []\n",
    "\n",
    "for name, model in models.items():\n",
    "    # Train the model\n",
    "    model.fit(X_train, y_train)\n",
    "    \n",
    "    # Make predictions\n",
    "    y_pred = model.predict(X_test)\n",
    "    \n",
    "    # Evaluate the model\n",
    "    r2 = r2_score(y_test, y_pred)\n",
    "    mse = mean_squared_error(y_test, y_pred)\n",
    "    mae = mean_absolute_error(y_test, y_pred)\n",
    "    \n",
    "    results.append({\n",
    "        'Model': name,\n",
    "        'R-squared': r2,\n",
    "        'MSE': mse,\n",
    "        'MAE': mae\n",
    "    })\n",
    "\n",
    "results_df = pd.DataFrame(results)\n",
    "print(\"\\nModel Evaluation Results:\")\n",
    "print(results_df)\n",
    "\n",
    "best_model_name = results_df.sort_values(by='R-squared', ascending=False).iloc[0]['Model']\n",
    "print(f\"\\nBest Performing Model: {best_model_name}\")"
   ]
  },
  {
   "cell_type": "markdown",
   "id": "d4ae5e3b-ede8-4e53-9fb2-55beb1a7cee2",
   "metadata": {},
   "source": [
    "# **Task 2: Model Implementation and Evaluation**\r\n",
    "\r\n",
    "Five regression models were implemented and evaluated to predict car prices: **Linear Regression, Decision Tree Regressor, Random Forest Regressor, Gradient Boosting Regressor,** and **Support Vector Regressor**. The evaluation metrics—R-squared, Mean Squared Error (MSE), and Mean Absolute Error (MAE)—were used to compare model performances. The **Random Forest Regressor** emerged as the best-performing model with an **R-squared of 0.953**, a significantly low **MSE (3.67 million)**, and a minimal **MAE (1365.35)**, indicating its superior predictive accuracy. Other notable performances include the **Decision Tree Regressor** (R-squared: 0.856) and **Gradient Boosting Regressor** (R-squared: 0.931), while the **Support Vector Regressor** struggled with poor performance (R-squared: -0.102). These results demonstrate the efficacy of ensemble models in handling complex data relationships.\r\n"
   ]
  },
  {
   "cell_type": "code",
   "execution_count": 52,
   "id": "4a662f43-1b9c-409f-b995-d88df5b0150f",
   "metadata": {},
   "outputs": [
    {
     "name": "stdout",
     "output_type": "stream",
     "text": [
      "\n",
      "Feature Importances:\n",
      "       Feature  Importance\n",
      "6   enginesize    0.540808\n",
      "5   curbweight    0.294927\n",
      "13  highwaympg    0.043387\n",
      "10  horsepower    0.038275\n",
      "3     carwidth    0.013358\n"
     ]
    },
    {
     "data": {
      "image/png": "[encoded data removed]",
      "text/plain": [
       "<Figure size 1000x600 with 1 Axes>"
      ]
     },
     "metadata": {},
     "output_type": "display_data"
    }
   ],
   "source": [
    "# Step 4: Feature Importance Analysis (2 marks)\n",
    "best_model = RandomForestRegressor(random_state=42)\n",
    "best_model.fit(X_train, y_train)\n",
    "\n",
    "feature_importances = pd.DataFrame({\n",
    "    'Feature': X.columns,\n",
    "    'Importance': best_model.feature_importances_\n",
    "}).sort_values(by='Importance', ascending=False)\n",
    "\n",
    "print(\"\\nFeature Importances:\")\n",
    "print(feature_importances.head())\n",
    "\n",
    "plt.figure(figsize=(10, 6))\n",
    "sns.barplot(x='Importance', y='Feature', data=feature_importances.head(10))\n",
    "plt.title('Top 10 Feature Importances')\n",
    "plt.show()"
   ]
  },
  {
   "cell_type": "markdown",
   "id": "d734079d-c4ed-4849-8e32-3b6d9e695cf9",
   "metadata": {},
   "source": [
    "# **Task 3: Feature Importance Analysis**\n",
    "\n",
    "Using the best-performing model, Random Forest Regressor, feature importance analysis was conducted to identify the most significant variables influencing car prices. The results revealed that **'enginesize'** (54.08%) and **'curbweight'** (29.49%) were the most critical factors in predicting car prices, followed by **'highwaympg'** (4.34%), **'horsepower'** (3.83%), and **'carwidth'** (1.34%). These insights highlight the key design and performance factors driving pricing in the automobile market."
   ]
  },
  {
   "cell_type": "code",
   "execution_count": 54,
   "id": "a8360d4e-de4b-4703-9a78-3ad55a28f2b3",
   "metadata": {},
   "outputs": [
    {
     "name": "stdout",
     "output_type": "stream",
     "text": [
      "\n",
      "Best Parameters from Grid Search: {'max_depth': 10, 'min_samples_split': 10, 'n_estimators': 50}\n",
      "\n",
      "Tuned Model Performance:\n",
      "R-squared: 0.9391253259816784\n",
      "MSE: 4805691.536744735\n",
      "MAE: 1524.5848413643794\n"
     ]
    }
   ],
   "source": [
    "# Step 5: Hyperparameter Tuning (2 marks)\n",
    "param_grid = {\n",
    "    'n_estimators': [50, 100, 200],\n",
    "    'max_depth': [None, 10, 20],\n",
    "    'min_samples_split': [2, 5, 10]\n",
    "}\n",
    "\n",
    "grid_search = GridSearchCV(RandomForestRegressor(random_state=42), param_grid, cv=3, scoring='r2', n_jobs=-1)\n",
    "grid_search.fit(X_train, y_train)\n",
    "\n",
    "print(\"\\nBest Parameters from Grid Search:\", grid_search.best_params_)\n",
    "\n",
    "tuned_model = grid_search.best_estimator_\n",
    "y_tuned_pred = tuned_model.predict(X_test)\n",
    "\n",
    "tuned_r2 = r2_score(y_test, y_tuned_pred)\n",
    "tuned_mse = mean_squared_error(y_test, y_tuned_pred)\n",
    "tuned_mae = mean_absolute_error(y_test, y_tuned_pred)\n",
    "\n",
    "print(f\"\\nTuned Model Performance:\\nR-squared: {tuned_r2}\\nMSE: {tuned_mse}\\nMAE: {tuned_mae}\")"
   ]
  },
  {
   "cell_type": "markdown",
   "id": "976f9b61-7585-47db-9053-5ec3bc7250f6",
   "metadata": {},
   "source": [
    "# **Task 4: Hyperparameter Tuning and Final Evaluation**\n",
    "\n",
    "To further improve the performance of the best-performing model (**Random Forest Regressor**), hyperparameter tuning was conducted using GridSearchCV. The tuning process explored parameters such as the number of estimators (`n_estimators`), maximum depth (`max_depth`), and the minimum samples required for splitting a node (`min_samples_split`). The optimal parameters identified were: **max_depth=10, min_samples_split=10, n_estimators=50**. Post-tuning, the model achieved an **R-squared of 0.939**, with a **Mean Squared Error (MSE) of 4.81 million** and a **Mean Absolute Error (MAE) of 1524.58**. While slightly lower than the initial Random Forest performance, the tuned model exhibits improved generalization and reduced complexity, making it more robust for predicting car prices in the given dataset.\n"
   ]
  },
  {
   "cell_type": "code",
   "execution_count": null,
   "id": "1518565e-2da9-4e64-9cf8-14807ae007d3",
   "metadata": {},
   "outputs": [],
   "source": []
  }
 ],
 "metadata": {
  "kernelspec": {
   "display_name": "Python 3 (ipykernel)",
   "language": "python",
   "name": "python3"
  },
  "language_info": {
   "codemirror_mode": {
    "name": "ipython",
    "version": 3
   },
   "file_extension": ".py",
   "mimetype": "text/x-python",
   "name": "python",
   "nbconvert_exporter": "python",
   "pygments_lexer": "ipython3",
   "version": "3.12.4"
  }
 },
 "nbformat": 4,
 "nbformat_minor": 5
}
